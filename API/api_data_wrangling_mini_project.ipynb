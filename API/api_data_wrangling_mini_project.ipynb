{
 "cells": [
  {
   "cell_type": "markdown",
   "metadata": {},
   "source": [
    "This exercise will require you to pull some data from the Quandl API. Qaundl is currently the most widely used aggregator of financial market data."
   ]
  },
  {
   "cell_type": "markdown",
   "metadata": {},
   "source": [
    "As a first step, you will need to register a free account on the http://www.quandl.com website."
   ]
  },
  {
   "cell_type": "markdown",
   "metadata": {},
   "source": [
    "After you register, you will be provided with a unique API key, that you should store:"
   ]
  },
  {
   "cell_type": "code",
   "execution_count": 11,
   "metadata": {
    "collapsed": true
   },
   "outputs": [],
   "source": [
    "# Store the API key as a string - according to PEP8, constants are always named in all upper case\n",
    "API_KEY = '' # your Quandl API key "
   ]
  },
  {
   "cell_type": "markdown",
   "metadata": {},
   "source": [
    "Qaundl has a large number of data sources, but, unfortunately, most of them require a Premium subscription. Still, there are also a good number of free datasets."
   ]
  },
  {
   "cell_type": "markdown",
   "metadata": {},
   "source": [
    "For this mini project, we will focus on equities data from the Frankfurt Stock Exhange (FSE), which is available for free. We'll try and analyze the stock prices of a company called Carl Zeiss Meditec, which manufactures tools for eye examinations, as well as medical lasers for laser eye surgery: https://www.zeiss.com/meditec/int/home.html. The company is listed under the stock ticker AFX_X."
   ]
  },
  {
   "cell_type": "markdown",
   "metadata": {},
   "source": [
    "You can find the detailed Quandl API instructions here: https://docs.quandl.com/docs/time-series"
   ]
  },
  {
   "cell_type": "markdown",
   "metadata": {},
   "source": [
    "While there is a dedicated Python package for connecting to the Quandl API, we would prefer that you use the *requests* package, which can be easily downloaded using *pip* or *conda*. You can find the documentation for the package here: http://docs.python-requests.org/en/master/ "
   ]
  },
  {
   "cell_type": "markdown",
   "metadata": {},
   "source": [
    "Finally, apart from the *requests* package, you are encouraged to not use any third party Python packages, such as *pandas*, and instead focus on what's available in the Python Standard Library (the *collections* module might come in handy: https://pymotw.com/3/collections/).\n",
    "Also, since you won't have access to DataFrames, you are encouraged to us Python's native data structures - preferably dictionaries, though some questions can also be answered using lists.\n",
    "You can read more on these data structures here: https://docs.python.org/3/tutorial/datastructures.html"
   ]
  },
  {
   "cell_type": "markdown",
   "metadata": {},
   "source": [
    "Keep in mind that the JSON responses you will be getting from the API map almost one-to-one to Python's dictionaries. Unfortunately, they can be very nested, so make sure you read up on indexing dictionaries in the documentation provided above."
   ]
  },
  {
   "cell_type": "code",
   "execution_count": 12,
   "metadata": {
    "collapsed": false
   },
   "outputs": [],
   "source": [
    "# First, import the relevant modules\n",
    "import requests"
   ]
  },
  {
   "cell_type": "code",
   "execution_count": 13,
   "metadata": {
    "collapsed": true
   },
   "outputs": [],
   "source": [
    "# Now, call the Quandl API and pull out a small sample of the data (only one day) to get a glimpse\n",
    "# into the JSON structure that will be returned\n",
    "payload = {'start_date': '2019-02-26', 'end_date': '2019-02-26', 'api_key': API_KEY}\n",
    "r = requests.get('https://www.quandl.com/api/v3/datasets/FSE/AFX_X.json', params=payload)"
   ]
  },
  {
   "cell_type": "code",
   "execution_count": 14,
   "metadata": {
    "collapsed": false
   },
   "outputs": [
    {
     "data": {
      "text/plain": [
       "{u'dataset': {u'collapse': None,\n",
       "  u'column_index': None,\n",
       "  u'column_names': [u'Date',\n",
       "   u'Open',\n",
       "   u'High',\n",
       "   u'Low',\n",
       "   u'Close',\n",
       "   u'Change',\n",
       "   u'Traded Volume',\n",
       "   u'Turnover',\n",
       "   u'Last Price of the Day',\n",
       "   u'Daily Traded Units',\n",
       "   u'Daily Turnover'],\n",
       "  u'data': [[u'2019-02-26',\n",
       "    None,\n",
       "    76.8,\n",
       "    74.85,\n",
       "    76.25,\n",
       "    None,\n",
       "    118344.0,\n",
       "    9005952.0,\n",
       "    None,\n",
       "    None,\n",
       "    None]],\n",
       "  u'database_code': u'FSE',\n",
       "  u'database_id': 6129,\n",
       "  u'dataset_code': u'AFX_X',\n",
       "  u'description': u'Stock Prices for Carl Zeiss Meditec (AFX) from the Frankfurt Stock Exchange.<br><br>Trading System: Xetra<br><br>ISIN: DE0005313704',\n",
       "  u'end_date': u'2019-02-26',\n",
       "  u'frequency': u'daily',\n",
       "  u'id': 10095370,\n",
       "  u'limit': None,\n",
       "  u'name': u'Carl Zeiss Meditec (AFX_X)',\n",
       "  u'newest_available_date': u'2019-02-27',\n",
       "  u'oldest_available_date': u'2000-06-07',\n",
       "  u'order': None,\n",
       "  u'premium': False,\n",
       "  u'refreshed_at': u'2019-02-27T22:30:34.021Z',\n",
       "  u'start_date': u'2019-02-26',\n",
       "  u'transform': None,\n",
       "  u'type': u'Time Series'}}"
      ]
     },
     "execution_count": 14,
     "metadata": {},
     "output_type": "execute_result"
    }
   ],
   "source": [
    "# Inspect the JSON structure of the object you created, and take note of how nested it is,\n",
    "# as well as the overall structure\n",
    "r.json()"
   ]
  },
  {
   "cell_type": "markdown",
   "metadata": {},
   "source": [
    "These are your tasks for this mini project:\n",
    "\n",
    "1. Collect data from the Franfurt Stock Exchange, for the ticker AFX_X, for the whole year 2017 (keep in mind that the date format is YYYY-MM-DD).\n",
    "2. Convert the returned JSON object into a Python dictionary.\n",
    "3. Calculate what the highest and lowest opening prices were for the stock in this period.\n",
    "4. What was the largest change in any one day (based on High and Low price)?\n",
    "5. What was the largest change between any two days (based on Closing Price)?\n",
    "6. What was the average daily trading volume during this year?\n",
    "7. (Optional) What was the median trading volume during this year. (Note: you may need to implement your own function for calculating the median.)"
   ]
  },
  {
   "cell_type": "markdown",
   "metadata": {
    "collapsed": true
   },
   "source": [
    "****\n",
    "### 1. Collect data for all of 2017"
   ]
  },
  {
   "cell_type": "code",
   "execution_count": 15,
   "metadata": {
    "collapsed": false
   },
   "outputs": [],
   "source": [
    "payload = {'start_date': '2017-01-01', 'end_date': '2017-12-31', 'api_key': API_KEY}\n",
    "r = requests.get('https://www.quandl.com/api/v3/datasets/FSE/AFX_X.json', params=payload)"
   ]
  },
  {
   "cell_type": "markdown",
   "metadata": {},
   "source": [
    "### 2. Convert JSON to dictionary"
   ]
  },
  {
   "cell_type": "code",
   "execution_count": 16,
   "metadata": {
    "collapsed": false
   },
   "outputs": [
    {
     "name": "stdout",
     "output_type": "stream",
     "text": [
      "<type 'dict'>\n"
     ]
    }
   ],
   "source": [
    "data = r.json()\n",
    "print(type(data))"
   ]
  },
  {
   "cell_type": "markdown",
   "metadata": {},
   "source": [
    "### 3. Calculate the highest and lowest opening prices\n",
    "The opening price is the 2nd column of the data."
   ]
  },
  {
   "cell_type": "code",
   "execution_count": 22,
   "metadata": {
    "collapsed": false
   },
   "outputs": [
    {
     "name": "stdout",
     "output_type": "stream",
     "text": [
      "max opening price: 53.11\n",
      "min opening price: 34.0\n"
     ]
    }
   ],
   "source": [
    "# Construct list of opening prices and filter out null values\n",
    "open_price = [entry[1] for entry in data['dataset']['data'] if entry[1] is not None]\n",
    "\n",
    "print('max opening price: ' + str(max(open_price)) + '\\n' + 'min opening price: ' + str(min(open_price)))"
   ]
  },
  {
   "cell_type": "markdown",
   "metadata": {},
   "source": [
    "### 4. Calculate the largest change in any one day\n",
    "The high and low prices are the 3rd and 4th columns of the data, respectively."
   ]
  },
  {
   "cell_type": "code",
   "execution_count": 23,
   "metadata": {
    "collapsed": false
   },
   "outputs": [
    {
     "name": "stdout",
     "output_type": "stream",
     "text": [
      "max change in one day: 2.81\n"
     ]
    }
   ],
   "source": [
    "# Construct list of change prices for each day, filtering out days with null values\n",
    "change_price = [entry[2] - entry[3] for entry in data['dataset']['data'] if entry[2] is not None and entry[3] is not None]\n",
    "\n",
    "print('max change in one day: ' + str(max(change_price)))"
   ]
  },
  {
   "cell_type": "markdown",
   "metadata": {},
   "source": [
    "### 5. Calculate the largest change between any two days\n",
    "The closing price is the 5th column of the data."
   ]
  },
  {
   "cell_type": "code",
   "execution_count": 36,
   "metadata": {
    "collapsed": false
   },
   "outputs": [
    {
     "name": "stdout",
     "output_type": "stream",
     "text": [
      "max change between two days: 2.56\n"
     ]
    }
   ],
   "source": [
    "# Construct list of closing prices and filter out null values\n",
    "close_price = [entry[4] for entry in data['dataset']['data'] if entry[4] is not None]\n",
    "\n",
    "# Calculate magnitude of closing price changes between days\n",
    "close_price_diff = [abs(close_price[i] - close_price[i - 1]) for i, _ in enumerate(close_price) if i > 0]\n",
    "\n",
    "print('max change between two days: ' + str(max(close_price_diff)))"
   ]
  },
  {
   "cell_type": "markdown",
   "metadata": {},
   "source": [
    "### 6. Calculate average daily trading volume\n",
    "The trade volume is the 7th column in the data."
   ]
  },
  {
   "cell_type": "code",
   "execution_count": 37,
   "metadata": {
    "collapsed": false
   },
   "outputs": [
    {
     "name": "stdout",
     "output_type": "stream",
     "text": [
      "average daily trading volume: 89124.3372549\n"
     ]
    }
   ],
   "source": [
    "# Construct list of trading volumes and filter out null values\n",
    "trade_volume = [entry[6] for entry in data['dataset']['data'] if entry[6] is not None]\n",
    "\n",
    "avg_volume = sum(trade_volume) / len(trade_volume)\n",
    "print('average daily trading volume: ' + str(avg_volume))"
   ]
  },
  {
   "cell_type": "markdown",
   "metadata": {},
   "source": [
    "### 7. Calculate median daily trading volume\n",
    "Could use numpy or statistics library to calculate median, but will just define own function here."
   ]
  },
  {
   "cell_type": "code",
   "execution_count": 46,
   "metadata": {
    "collapsed": false
   },
   "outputs": [
    {
     "name": "stdout",
     "output_type": "stream",
     "text": [
      "median daily trading volume: 76286.0\n"
     ]
    }
   ],
   "source": [
    "def median(lst):\n",
    "    \"\"\"Calculates the median of a list of ints or floats.\"\"\"\n",
    "    lst = sorted(lst)\n",
    "    n = len(lst)\n",
    "    if n % 2 == 0:\n",
    "        return (lst[n / 2 - 1] + lst[n / 2]) / 2.0\n",
    "    else:\n",
    "        return lst[n / 2]\n",
    "\n",
    "print('median daily trading volume: ' + str(median(trade_volume)))"
   ]
  }
 ],
 "metadata": {
  "kernelspec": {
   "display_name": "Python 2",
   "language": "python",
   "name": "python2"
  },
  "language_info": {
   "codemirror_mode": {
    "name": "ipython",
    "version": 2
   },
   "file_extension": ".py",
   "mimetype": "text/x-python",
   "name": "python",
   "nbconvert_exporter": "python",
   "pygments_lexer": "ipython2",
   "version": "2.7.11"
  }
 },
 "nbformat": 4,
 "nbformat_minor": 2
}
